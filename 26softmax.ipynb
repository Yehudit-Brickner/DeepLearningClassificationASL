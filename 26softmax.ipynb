{
 "cells": [
  {
   "cell_type": "code",
   "execution_count": 19,
   "metadata": {},
   "outputs": [],
   "source": [
    "import numpy as np\n",
    "import pandas as pd\n",
    "import matplotlib.pyplot as plt \n",
    "import seaborn as sns\n",
    "import os\n",
    "import random\n",
    "import tensorflow.compat.v1 as tf\n",
    "tf.disable_v2_behavior()\n",
    "import cv2\n",
    "from sklearn.model_selection import train_test_split\n",
    "\n",
    "np.random.seed(0)\n",
    "\n",
    "# Load data into dataframe\n",
    "training_data_folder = 'asl_alphabet_train'\n",
    "data = []\n",
    "\n",
    "for folder in sorted(os.listdir(training_data_folder)):\n",
    "    sub_folder = os.path.join(training_data_folder,folder)\n",
    "    files = [{'label':folder,'path':os.path.join(sub_folder, f)} for f in os.listdir(sub_folder) if os.path.isfile(os.path.join(sub_folder, f))]\n",
    "    data += files\n",
    "\n",
    "df = pd.DataFrame(data)\n",
    "\n",
    "train_dir=\"asl_alphabet_train\"\n",
    "labels_dict,map_characters = {},{}\n",
    "order_list=[]\n",
    "for i in range(26):\n",
    "    c=chr(ord('A')+i)\n",
    "    labels_dict[c]=i\n",
    "    map_characters[i]=c\n",
    "    order_list+=c\n",
    "    \n",
    "from sklearn.preprocessing import LabelBinarizer\n",
    "lb=LabelBinarizer()\n",
    "\n",
    "hotEncodedLabels=lb.fit_transform(order_list)\n",
    "    \n",
    "# df.to_csv(\"labelPath.csv\",index=False)\n",
    "# df2 = pd.read_csv('labelPath.csv')\n",
    "# df2.head()\n",
    "\n"
   ]
  },
  {
   "cell_type": "code",
   "execution_count": 20,
   "metadata": {},
   "outputs": [
    {
     "name": "stdout",
     "output_type": "stream",
     "text": [
      "LOADING DATA FROM : A | B | C | D | E | F | G | H | I | J | K | L | M | N | O | P | Q | R | S | T | U | V | W | X | Y | Z | \n",
      "Loaded 54600 images for training, Train data shape = (54600, 4096)\n",
      "Loaded 18720 images for validation validation data shape = (18720, 4096)\n",
      "Loaded 4680 images for testing Test data shape = (4680, 4096)\n"
     ]
    }
   ],
   "source": [
    "def load_data():\n",
    "    \"\"\"\n",
    "    Loads data and preprocess. Returns train and test data along with labels.\n",
    "    \"\"\"\n",
    "    images = []\n",
    "    labels = []\n",
    "    size = 64,64\n",
    "    print(\"LOADING DATA FROM : \",end = \"\")\n",
    "    for folder in os.listdir(train_dir):\n",
    "        print(folder, end = ' | ')\n",
    "        for image in os.listdir(train_dir + \"/\" + folder): #/mnt/d/Zaken/Desktop/computer science/DeepLearningClassificationASL/asl_alphabet_train/A/A1.jpg\n",
    "            save=train_dir + '/' + folder + '/' + image\n",
    "            temp_img = cv2.imread(train_dir + '/' + folder + '/' + image, 0) # greyscale\n",
    "            temp_img = cv2.resize(temp_img, size)\n",
    "            temp_img = temp_img.flatten()\n",
    "            images.append(temp_img)\n",
    "            labels.append(hotEncodedLabels[labels_dict[folder]])\n",
    "    \n",
    "    images = np.array(images)\n",
    "    images = images.astype('float32')/255.0\n",
    "    \n",
    "    X_train, X_test, Y_train, Y_test = train_test_split(images, labels, test_size = 0.3, random_state=42,shuffle=True)\n",
    "    X_test, X_validation, Y_test, Y_validation = train_test_split(X_test, Y_test, test_size = 0.8,random_state=42,shuffle=True)\n",
    "    print()\n",
    "    print('Loaded', len(X_train),'images for training,','Train data shape =',X_train.shape)\n",
    "    print('Loaded', len(X_validation),'images for validation','validation data shape =',X_validation.shape)\n",
    "    print('Loaded', len(X_test),'images for testing','Test data shape =',X_test.shape)\n",
    "\n",
    "    return X_train, X_test, Y_train, Y_test, X_validation, Y_validation\n",
    "\n",
    "X_train, X_test, Y_train, Y_test, X_validation, Y_validation= load_data()\n",
    "\n",
    "\n"
   ]
  },
  {
   "cell_type": "code",
   "execution_count": 22,
   "metadata": {},
   "outputs": [
    {
     "name": "stdout",
     "output_type": "stream",
     "text": [
      "0 :\n",
      "0.054113247\n",
      "5000 :\n",
      "0.38963675\n",
      "10000 :\n",
      "0.45005342\n",
      "15000 :\n",
      "0.49043804\n",
      "20000 :\n",
      "0.517094\n",
      "25000 :\n",
      "0.53771365\n",
      "30000 :\n",
      "0.55448717\n",
      "35000 :\n",
      "0.56832266\n",
      "40000 :\n",
      "0.579968\n",
      "45000 :\n",
      "0.5903846\n"
     ]
    }
   ],
   "source": [
    "\n",
    "categories = 26\n",
    "features= 4096\n",
    "x = tf.placeholder(tf.float32, [None, features])\n",
    "y_ = tf.placeholder(tf.float32, [None, categories])\n",
    "W = tf.Variable(tf.zeros([features,categories]))\n",
    "b = tf.Variable(tf.zeros([categories]))\n",
    "\n",
    "z = tf.matmul(x, W) +b \n",
    "pred = tf.nn.softmax(z) \n",
    "loss = tf.reduce_mean(tf.nn.softmax_cross_entropy_with_logits_v2(y_, z))\n",
    "update = tf.train.GradientDescentOptimizer(0.01).minimize(loss)\n",
    "\n",
    "data_x=np.array(X_train)\n",
    "data_y=np.array(Y_train)\n",
    "data_arr_x=[data_x[0::5],data_x[1::5],data_x[2::5],data_x[3::5],data_x[4::5]]\n",
    "data_arr_y=[data_y[0::5],data_y[1::5],data_y[2::5],data_y[3::5],data_y[4::5]]\n",
    "sess = tf.Session()\n",
    "sess.run(tf.global_variables_initializer())\n",
    "\n",
    "for i in range(50000):\n",
    "   \n",
    "    sess.run(update, feed_dict = {x:data_arr_x[i%5], y_:data_arr_y[i%5]}) \n",
    "    if(i%5000==0):\n",
    "        print(i,':')\n",
    "        correct_prediction = tf.equal(tf.argmax(pred,1), tf.argmax(y_,1))\n",
    "        accuracy = tf.reduce_mean(tf.cast(correct_prediction, tf.float32))\n",
    "        print(sess.run(accuracy, feed_dict={x: X_validation, y_: Y_validation}))\n",
    "    \n"
   ]
  },
  {
   "cell_type": "code",
   "execution_count": 23,
   "metadata": {},
   "outputs": [
    {
     "name": "stdout",
     "output_type": "stream",
     "text": [
      "0.5982906\n"
     ]
    }
   ],
   "source": [
    "correct_prediction = tf.equal(tf.argmax(pred,1), tf.argmax(y_,1))\n",
    "accuracy = tf.reduce_mean(tf.cast(correct_prediction, tf.float32))\n",
    "print(sess.run(accuracy, feed_dict={x: X_test, y_: Y_test}))\n",
    "    "
   ]
  }
 ],
 "metadata": {
  "kernelspec": {
   "display_name": "Python 3.8.10 64-bit",
   "language": "python",
   "name": "python3"
  },
  "language_info": {
   "codemirror_mode": {
    "name": "ipython",
    "version": 3
   },
   "file_extension": ".py",
   "mimetype": "text/x-python",
   "name": "python",
   "nbconvert_exporter": "python",
   "pygments_lexer": "ipython3",
   "version": "3.8.10"
  },
  "orig_nbformat": 4,
  "vscode": {
   "interpreter": {
    "hash": "916dbcbb3f70747c44a77c7bcd40155683ae19c65e1c03b4aa3499c5328201f1"
   }
  }
 },
 "nbformat": 4,
 "nbformat_minor": 2
}
